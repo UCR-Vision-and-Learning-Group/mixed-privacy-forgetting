{
 "cells": [
  {
   "cell_type": "code",
   "execution_count": 1,
   "metadata": {},
   "outputs": [],
   "source": [
    "import torch\n",
    "from model import get_core_model_params, get_trained_linear, init_pretrained_model, split_model_to_feature_linear, freeze, thaw\n",
    "import torch.nn as nn\n",
    "# from train import test_mixed_linear\n",
    "device = 'cuda:1' if torch.cuda.is_available() else 'cpu'\n",
    "# from dataset import get_user_loader\n",
    "\n",
    "from torch.func import functional_call\n",
    "import torch.autograd.forward_ad as fwAD\n",
    "\n",
    "from loss import L2Regularization, LossWrapper\n",
    "from utils import params_to_device\n",
    "\n",
    "from torch.optim import SGD\n",
    "from dataset import split_user_train_dataset_to_remaining_forget, get_remaining_forget_loader"
   ]
  },
  {
   "cell_type": "code",
   "execution_count": 2,
   "metadata": {},
   "outputs": [],
   "source": [
    "# loading core model and linearized model -- init in cpu\n",
    "pretrained_model = init_pretrained_model('resnet50', 'cifar10')\n",
    "_, linearized_head_core, __ = split_model_to_feature_linear(pretrained_model, 5, None, send_params_to_device=False)\n",
    "core_model_state_dict = get_core_model_params('checkpoint/05042024-184850-train-user-data-resnet50-cifar10-last5/05042024_184850_train_user_data_resnet50_cifar10_last5_core_model.pth', 'cpu')\n",
    "feature_backbone, mixed_linear = get_trained_linear('checkpoint/05042024-184850-train-user-data-resnet50-cifar10-last5/05042024_184850_train_user_data_resnet50_cifar10_last5.pth', 'resnet50', 'cifar10', 5)\n",
    "del _\n",
    "del __\n",
    "# _, test_loader = get_user_loader('cifar10', 'resnet50', 256)\n",
    "# test_mixed_linear(mixed_linear, test_loader, feature_backbone, core_model_state_dict, None, None, 0, device, None, None, None, save_param=False)"
   ]
  },
  {
   "cell_type": "code",
   "execution_count": 3,
   "metadata": {
    "metadata": {}
   },
   "outputs": [],
   "source": [
    "v_param = {key: torch.randn_like(value, device='cpu') for key, value in core_model_state_dict.items()} ## init in cpu\n",
    "\n",
    "class JVPNormLoss(nn.Module):\n",
    "    def __init__(self) -> None:\n",
    "        super().__init__()\n",
    "\n",
    "    def forward(self, feature_backbone, arch, primals, tangents, inp):\n",
    "        with torch.no_grad():\n",
    "            inp = feature_backbone(inp)\n",
    "\n",
    "        dual_params = {}\n",
    "        with fwAD.dual_level():\n",
    "            for name, p in primals.items():\n",
    "                dual_params[name] = fwAD.make_dual(p, tangents[name])\n",
    "            out = functional_call(arch, dual_params, inp)\n",
    "            jvp = fwAD.unpack_dual(out).tangent\n",
    "        return torch.norm(jvp) ** 2\n",
    "\n",
    "def calculate_gradient(feature_backbone, core_model_state_dict, model, loss_fnc, data_loader, device):\n",
    "    grads = [torch.zeros_like(param) for param in model.parameters()]\n",
    "    sample_count = 0\n",
    "    thaw(model)\n",
    "    for iter_idx, (inp, target) in enumerate(data_loader):\n",
    "        model.zero_grad()\n",
    "        inp = inp.to(device)\n",
    "        target = target.to(device)\n",
    "        curr_loss = loss_fnc(model(feature_backbone, core_model_state_dict, inp), target, model.parameters())\n",
    "        curr_loss.backward()\n",
    "        for idx, param in enumerate(model.parameters()):\n",
    "            grads[idx] += (param.grad * inp.shape[0])\n",
    "        sample_count += inp.shape[0]\n",
    "        if iter_idx == 0 or (iter_idx + 1) % 50 == 0 or (iter_idx + 1) == len(data_loader):\n",
    "            print('iter: {}/{}'.format(iter_idx + 1, len(data_loader)))\n",
    "    freeze(model)\n",
    "    \n",
    "    for grad in grads:\n",
    "        grad = grad / sample_count\n",
    "        grad.requires_grad = False\n",
    "    return grads    \n",
    "    \n",
    "class GradientVectorInnerProduct(nn.Module):\n",
    "    def __init__(self) -> None:\n",
    "        super().__init__()\n",
    "\n",
    "    def forward(self, grads, vector_values):\n",
    "        grad_vector_inner_product_sum = None\n",
    "        for param, vector_value in zip(grads, vector_values):\n",
    "            if grad_vector_inner_product_sum is None:\n",
    "                grad_vector_inner_product_sum = torch.sum(param * vector_value)\n",
    "            else:\n",
    "                grad_vector_inner_product_sum += torch.sum(param * vector_value)       \n",
    "        return grad_vector_inner_product_sum"
   ]
  },
  {
   "cell_type": "code",
   "execution_count": 4,
   "metadata": {},
   "outputs": [],
   "source": [
    "feature_backbone = feature_backbone.to(device)\n",
    "freeze(feature_backbone)\n",
    "\n",
    "mixed_linear = mixed_linear.to(device)\n",
    "freeze(mixed_linear)\n",
    "\n",
    "linearized_head_core = linearized_head_core.to(device)\n",
    "freeze(linearized_head_core)\n",
    "\n",
    "core_model_state_dict = params_to_device(core_model_state_dict, device)\n",
    "v_param = params_to_device(v_param, device)\n",
    "for param in v_param.values():\n",
    "    param.requires_grad = True"
   ]
  },
  {
   "cell_type": "code",
   "execution_count": 5,
   "metadata": {
    "metadata": {}
   },
   "outputs": [
    {
     "name": "stdout",
     "output_type": "stream",
     "text": [
      "Files already downloaded and verified\n"
     ]
    }
   ],
   "source": [
    "remaining_dataset, forget_dataset = split_user_train_dataset_to_remaining_forget('cifar10', 'resnet50', 0.001)\n",
    "remain_loader, forget_loader = get_remaining_forget_loader(remaining_dataset, forget_dataset, 256)"
   ]
  },
  {
   "cell_type": "code",
   "execution_count": 6,
   "metadata": {
    "metadata": {}
   },
   "outputs": [
    {
     "name": "stdout",
     "output_type": "stream",
     "text": [
      "iter: 1/781\n",
      "iter: 50/781\n",
      "iter: 100/781\n",
      "iter: 150/781\n",
      "iter: 200/781\n",
      "iter: 250/781\n",
      "iter: 300/781\n",
      "iter: 350/781\n",
      "iter: 400/781\n",
      "iter: 450/781\n",
      "iter: 500/781\n",
      "iter: 550/781\n",
      "iter: 600/781\n",
      "iter: 650/781\n",
      "iter: 700/781\n",
      "iter: 750/781\n",
      "iter: 781/781\n"
     ]
    }
   ],
   "source": [
    "main_criterion = LossWrapper([nn.MSELoss(), L2Regularization()], [1, 0.0005])\n",
    "grads = calculate_gradient(feature_backbone, core_model_state_dict, mixed_linear, main_criterion, remain_loader, device)"
   ]
  },
  {
   "cell_type": "code",
   "execution_count": 7,
   "metadata": {
    "metadata": {}
   },
   "outputs": [
    {
     "name": "stdout",
     "output_type": "stream",
     "text": [
      "229681.40625\n",
      "1868647040.0\n",
      "2418850922496.0\n",
      "3156273218453504.0\n",
      "4.034627956432175e+18\n",
      "5.543728479309849e+21\n",
      "7.611445964069337e+24\n",
      "1.06372343947265e+28\n",
      "1.50644681595474e+31\n",
      "2.0848106111643754e+34\n",
      "2.8683895792326685e+37\n",
      "inf\n",
      "nan\n",
      "nan\n",
      "nan\n",
      "nan\n",
      "nan\n",
      "nan\n",
      "nan\n",
      "nan\n",
      "nan\n",
      "nan\n",
      "nan\n",
      "nan\n"
     ]
    },
    {
     "ename": "KeyboardInterrupt",
     "evalue": "",
     "output_type": "error",
     "traceback": [
      "\u001b[0;31m---------------------------------------------------------------------------\u001b[0m",
      "\u001b[0;31mKeyboardInterrupt\u001b[0m                         Traceback (most recent call last)",
      "Cell \u001b[0;32mIn[7], line 19\u001b[0m\n\u001b[1;32m     16\u001b[0m loss\u001b[38;5;241m.\u001b[39mbackward()\n\u001b[1;32m     17\u001b[0m optimizer\u001b[38;5;241m.\u001b[39mstep()\n\u001b[0;32m---> 19\u001b[0m \u001b[38;5;28mprint\u001b[39m(\u001b[38;5;124m'\u001b[39m\u001b[38;5;132;01m{}\u001b[39;00m\u001b[38;5;124m'\u001b[39m\u001b[38;5;241m.\u001b[39mformat(\u001b[43mloss\u001b[49m\u001b[38;5;241;43m.\u001b[39;49m\u001b[43mitem\u001b[49m\u001b[43m(\u001b[49m\u001b[43m)\u001b[49m))\n",
      "\u001b[0;31mKeyboardInterrupt\u001b[0m: "
     ]
    }
   ],
   "source": [
    "jvp_norm_criterion = JVPNormLoss()\n",
    "gradient_vector_inner_product_criterion = GradientVectorInnerProduct()\n",
    "regularizor_criterion = L2Regularization()\n",
    "\n",
    "\n",
    "optimizer = SGD(v_param.values(), lr=0.01, momentum=0.999)\n",
    "\n",
    "for epoch in range(3):\n",
    "    for data, label in remain_loader:\n",
    "        data, label = data.to(device), label.to(device)\n",
    "        optimizer.zero_grad()\n",
    "        jvp_norm_loss = 0.5 * jvp_norm_criterion(feature_backbone, linearized_head_core, core_model_state_dict, v_param, data)\n",
    "        gradient_vector_inner_product_loss = gradient_vector_inner_product_criterion(grads, v_param.values())\n",
    "        regularizor_loss = 0.0005 * regularizor_criterion(v_param.values())\n",
    "        loss = jvp_norm_loss + regularizor_loss - gradient_vector_inner_product_loss\n",
    "        loss.backward()\n",
    "        optimizer.step()\n",
    "        \n",
    "        print('{}'.format(loss.item()))\n"
   ]
  }
 ],
 "metadata": {
  "kernelspec": {
   "display_name": "pytorch-stable",
   "language": "python",
   "name": "python3"
  },
  "language_info": {
   "codemirror_mode": {
    "name": "ipython",
    "version": 3
   },
   "file_extension": ".py",
   "mimetype": "text/x-python",
   "name": "python",
   "nbconvert_exporter": "python",
   "pygments_lexer": "ipython3",
   "version": "3.9.18"
  }
 },
 "nbformat": 4,
 "nbformat_minor": 2
}

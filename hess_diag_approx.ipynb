{
 "cells": [
  {
   "cell_type": "code",
   "execution_count": 1,
   "metadata": {
    "ExecuteTime": {
     "end_time": "2024-05-12T01:59:07.069670Z",
     "start_time": "2024-05-12T01:59:05.403083Z"
    }
   },
   "outputs": [],
   "source": [
    "from dataset import get_user_loader, get_remaining_forget_loader, split_user_train_dataset_to_remaining_forget\n",
    "from utils import params_to_device\n",
    "from model import get_core_model_params, get_trained_linear, init_pretrained_model, split_model_to_feature_linear, freeze, thaw\n",
    "from loss import MSELossDiv2\n",
    "\n",
    "import torch\n",
    "import random\n",
    "import numpy as np\n",
    "\n",
    "device = 'cuda:2' if torch.cuda.is_available() else 'cpu'\n",
    "def set_deterministic(seed=42):\n",
    "    random.seed(seed)\n",
    "    np.random.seed(seed)\n",
    "    torch.manual_seed(seed)\n",
    "    torch.cuda.manual_seed(seed)\n",
    "    torch.cuda.manual_seed_all(seed) \n",
    "\n",
    "    torch.backends.cudnn.deterministic = True\n",
    "    torch.backends.cudnn.benchmark = False\n",
    "    torch.backends.cudnn.enabled = False\n",
    "seed = 13 # any number \n",
    "set_deterministic(seed=seed)"
   ]
  },
  {
   "cell_type": "code",
   "execution_count": 2,
   "metadata": {
    "ExecuteTime": {
     "end_time": "2024-05-12T01:59:28.905681Z",
     "start_time": "2024-05-12T01:59:26.155196Z"
    }
   },
   "outputs": [
    {
     "name": "stdout",
     "output_type": "stream",
     "text": [
      "Files already downloaded and verified\n",
      "Files already downloaded and verified\n",
      "Files already downloaded and verified\n"
     ]
    }
   ],
   "source": [
    "# loading core model and linearized model -- init in cpu\n",
    "pretrained_model = init_pretrained_model('resnet50', 'cifar10')\n",
    "_, linearized_head_core, __ = split_model_to_feature_linear(pretrained_model, 5, None, send_params_to_device=False)\n",
    "core_model_state_dict = get_core_model_params('checkpoint/05042024-213334-train-user-data-resnet50-cifar10-last5/05042024_213334_train_user_data_resnet50_cifar10_last5_core_model.pth', 'cpu')\n",
    "feature_backbone, mixed_linear = get_trained_linear('checkpoint/05042024-213334-train-user-data-resnet50-cifar10-last5/05042024_213334_train_user_data_resnet50_cifar10_last5.pth', 'resnet50', 'cifar10', 5)\n",
    "del _\n",
    "del __\n",
    "\n",
    "feature_backbone = feature_backbone.to(device)\n",
    "freeze(feature_backbone)\n",
    "\n",
    "mixed_linear = mixed_linear.to(device)\n",
    "freeze(mixed_linear)\n",
    "\n",
    "linearized_head_core = linearized_head_core.to(device)\n",
    "freeze(linearized_head_core)\n",
    "\n",
    "core_model_state_dict = params_to_device(core_model_state_dict, device)\n",
    "\n",
    "def calculate_gradient(feature_backbone, core_model_state_dict, model, loss_fnc, regularizor_hyperparameter, data_loader, device):\n",
    "    grads = [torch.zeros_like(param) for param in model.parameters()]\n",
    "    sample_count = 0\n",
    "    thaw(model)\n",
    "    for iter_idx, (inp, target) in enumerate(data_loader):\n",
    "        model.zero_grad()\n",
    "        inp = inp.to(device)\n",
    "        target = 5 * target.to(device)\n",
    "        curr_loss = loss_fnc(model(feature_backbone, core_model_state_dict, inp), target)\n",
    "        curr_loss.backward()\n",
    "        for idx, param in enumerate(model.parameters()):\n",
    "            grads[idx] += (param.grad * inp.shape[0])\n",
    "        sample_count += inp.shape[0]\n",
    "\n",
    "        if iter_idx == 0 or (iter_idx + 1) % 50 == 0 or (iter_idx + 1) == len(data_loader):\n",
    "            print('iter: {}/{}'.format(iter_idx + 1, len(data_loader)))\n",
    "    freeze(model)\n",
    "    \n",
    "    last = []\n",
    "    for grad, param in zip(grads, model.parameters()):\n",
    "        tmp = grad / sample_count\n",
    "        tmp = tmp + regularizor_hyperparameter*param.clone().detach()\n",
    "        tmp.requires_grad = False\n",
    "        last.append(tmp)\n",
    "    return last\n",
    "\n",
    "def calculate_hess_diag(feature_backbone, core_model_state_dict, model, loss_fnc, regularizor_hyperparameter, data_loader, device):\n",
    "    hess_diags = [torch.zeros_like(p) for p in model.parameters()]\n",
    "    sample_count = 0\n",
    "    v = [np.random.uniform(0, 1, size = p.shape) for p in model.parameters()]\n",
    "    for vi in v:\n",
    "        vi[ vi < 0.5] =  -1 \n",
    "        vi[ vi >= 0.5] =  1 \n",
    "    v = [torch.tensor(vi) for vi in v]\n",
    "    v = {key: param for (key, _), param in zip(model.named_parameters(), v)}\n",
    "    v = params_to_device(v, device)\n",
    "    \n",
    "    thaw(model)\n",
    "    for iter_idx, (inp, target) in enumerate(data_loader):\n",
    "        model.zero_grad()\n",
    "        inp = inp.to(device)\n",
    "        target = 5 * target.to(device)\n",
    "        curr_loss = loss_fnc(model(feature_backbone, core_model_state_dict, inp), target)\n",
    "        curr_grad = torch.autograd.grad(curr_loss, model.parameters(), create_graph=True)\n",
    "        \n",
    "        vprod = None\n",
    "        for vi, grad in zip(v.values(), curr_grad):\n",
    "            if vprod is None:\n",
    "                vprod = torch.sum(vi * grad)\n",
    "            else:\n",
    "                vprod += torch.sum(vi * grad)\n",
    "\n",
    "        hvp_val = torch.autograd.grad(vprod, model.parameters())\n",
    "\n",
    "        for idx, (vi, hvp_val_i) in enumerate(zip(v.values(), hvp_val)):\n",
    "            hess_diags[idx] = hess_diags[idx] + (torch.abs(vi * hvp_val_i) * inp.shape[0])\n",
    "        \n",
    "        sample_count += inp.shape[0]\n",
    "\n",
    "        if iter_idx == 0 or (iter_idx + 1) % 50 == 0 or (iter_idx + 1) == len(data_loader):\n",
    "            print('iter: {}/{}'.format(iter_idx + 1, len(data_loader)))\n",
    "    freeze(model)\n",
    "    \n",
    "    hess_diags = [(diags / sample_count) + (regularizor_hyperparameter * torch.norm(param) ** 2) for diags, param in zip(hess_diags, v.values())]\n",
    "    return hess_diags\n",
    "\n",
    "def expected_hess_diag(feature_backbone, core_model_state_dict, model, loss_fnc, regularizor_hyperparameter, data_loader, device, num_iter=20):\n",
    "    expected_hess_diags = [torch.zeros_like(p) for p in model.parameters()]\n",
    "    for iter in range(num_iter):\n",
    "        print('#####expectation iter: {}#######\\n'.format(iter + 1))\n",
    "        hess_diags = calculate_hess_diag(feature_backbone, core_model_state_dict, model, loss_fnc, regularizor_hyperparameter, data_loader, device)\n",
    "        for expected_idx in range(len(expected_hess_diags)):\n",
    "            expected_hess_diags[expected_idx] = expected_hess_diags[expected_idx] + hess_diags[expected_idx]\n",
    "        \n",
    "    expected_hess_diags = [expected / num_iter for expected in expected_hess_diags]\n",
    "    return expected_hess_diags\n",
    "            \n",
    "remain_dataset, _ = split_user_train_dataset_to_remaining_forget('cifar10', 'resnet50', 0.1, seed=13)\n",
    "remain_loader, _ = get_remaining_forget_loader(remain_dataset, _, 64, shuffle=False)"
   ]
  },
  {
   "cell_type": "code",
   "outputs": [],
   "source": [
    "remain_grads = calculate_gradient(feature_backbone, core_model_state_dict, mixed_linear, MSELossDiv2(), 0.0005, remain_loader, device)\n",
    "remain_grads = params_to_device(remain_grads, 'cpu')"
   ],
   "metadata": {
    "collapsed": false
   }
  },
  {
   "cell_type": "code",
   "execution_count": 4,
   "metadata": {
    "ExecuteTime": {
     "end_time": "2024-05-12T02:00:52.694552Z",
     "start_time": "2024-05-12T01:59:44.136886Z"
    }
   },
   "outputs": [
    {
     "name": "stdout",
     "output_type": "stream",
     "text": [
      "iter: 1/79\n",
      "iter: 50/79\n",
      "iter: 79/79\n"
     ]
    }
   ],
   "source": [
    "expected_hess_diags = expected_hess_diag(feature_backbone, core_model_state_dict, mixed_linear, MSELossDiv2(), 0.0005, remain_loader, device)\n",
    "feature_backbone = feature_backbone.to('cpu')\n",
    "core_model_state_dict = params_to_device(core_model_state_dict, 'cpu')\n",
    "remain_grads = params_to_device(remain_grads, device)\n",
    "expected_hess_diags_inv = [1 / expected for expected in expected_hess_diags]\n",
    "forgetting_update = [expected_inv * grad for expected_inv, grad in zip(expected_hess_diags_inv, remain_grads)]"
   ]
  },
  {
   "cell_type": "code",
   "outputs": [],
   "source": [
    "forgetted_model = {name: first - second for (name, first), second in zip(mixed_linear.tangents.items(), forgetting_update)}\n",
    "with torch.no_grad():\n",
    "    state_dict = mixed_linear.state_dict()\n",
    "    for name, value in forgetted_model.items():\n",
    "        state_dict['tangent_model.{}'.format(name)] = value\n",
    "    mixed_linear.load_state_dict(state_dict)\n",
    "\n",
    "torch.save({\n",
    "    'model_state_dict': mixed_linear.state_dict(),\n",
    "}, './hess_diag_model.pt')"
   ],
   "metadata": {
    "collapsed": false
   }
  }
 ],
 "metadata": {
  "kernelspec": {
   "display_name": "pytorch-stable",
   "language": "python",
   "name": "python3"
  },
  "language_info": {
   "codemirror_mode": {
    "name": "ipython",
    "version": 3
   },
   "file_extension": ".py",
   "mimetype": "text/x-python",
   "name": "python",
   "nbconvert_exporter": "python",
   "pygments_lexer": "ipython3",
   "version": "3.9.18"
  }
 },
 "nbformat": 4,
 "nbformat_minor": 2
}

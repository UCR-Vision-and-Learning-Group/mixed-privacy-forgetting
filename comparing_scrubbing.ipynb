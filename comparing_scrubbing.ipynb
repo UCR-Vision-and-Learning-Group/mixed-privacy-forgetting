{
 "cells": [
  {
   "cell_type": "code",
   "execution_count": 1,
   "metadata": {
    "metadata": {}
   },
   "outputs": [],
   "source": [
    "from dataset import get_user_loader, get_remaining_forget_loader, split_user_train_dataset_to_remaining_forget\n",
    "from model import get_trained_linear, get_core_model_params\n",
    "from train import train_accuracy_mixed_linear\n",
    "from utils import params_to_device\n",
    "\n",
    "import torch\n",
    "\n",
    "device = 'cuda:3' if torch.cuda.is_available() else 'cpu'"
   ]
  },
  {
   "cell_type": "code",
   "execution_count": 2,
   "metadata": {},
   "outputs": [],
   "source": [
    "def add_random_noise(model, device, sigma=1e-5):\n",
    "    with torch.no_grad():\n",
    "        state_dict = model.state_dict()\n",
    "        for name in model.tangents.keys():\n",
    "            state_dict['tangent_model.{}'.format(name)] = state_dict['tangent_model.{}'.format(name)] + ((sigma**2) * torch.normal(0, 1, size=state_dict['tangent_model.{}'.format(name)].shape, device=device))\n",
    "        model.load_state_dict(state_dict)"
   ]
  },
  {
   "cell_type": "code",
   "execution_count": 3,
   "metadata": {},
   "outputs": [
    {
     "name": "stdout",
     "output_type": "stream",
     "text": [
      "Files already downloaded and verified\n",
      "Files already downloaded and verified\n",
      "Files already downloaded and verified\n"
     ]
    }
   ],
   "source": [
    "whole_loader, test_loader = get_user_loader('cifar10', 'resnet50', 64, shuffle=False)\n",
    "remain_dataset, forget_dataset = split_user_train_dataset_to_remaining_forget('cifar10', 'resnet50', 0.1, seed=13)\n",
    "remain_loader, forget_loader = get_remaining_forget_loader(remain_dataset, forget_dataset, 64, shuffle=False)"
   ]
  },
  {
   "cell_type": "code",
   "execution_count": 18,
   "metadata": {},
   "outputs": [],
   "source": [
    "core_model_state_dict = get_core_model_params('checkpoint/05042024-213334-train-user-data-resnet50-cifar10-last5/05042024_213334_train_user_data_resnet50_cifar10_last5_core_model.pth', 'cpu')\n",
    "core_model_state_dict = params_to_device(core_model_state_dict, device)\n",
    "\n",
    "core_model_state_dict_remain = get_core_model_params('checkpoint/05092024-141054-train-user-data-resnet50-cifar10-last5-split0.1/05092024_141054_train_user_data_resnet50_cifar10_last5_split0.1_core_model.pth', 'cpu')\n",
    "core_model_state_dict_remain = params_to_device(core_model_state_dict_remain, device)\n",
    "\n",
    "feature_backbone, ml_whole_data = get_trained_linear('checkpoint/05042024-213334-train-user-data-resnet50-cifar10-last5/05042024_213334_train_user_data_resnet50_cifar10_last5.pth', 'resnet50', 'cifar10', 5)\n",
    "ml_whole_data = ml_whole_data.to(device)\n",
    "\n",
    "feature_backbone, ml_scrubbing = get_trained_linear('checkpoint/05092024-132921-forgetting-resnet50-cifar10-last5-split0.1/05092024_132921_forgetting_resnet50_cifar10_last5_split0.1.pth', 'resnet50', 'cifar10', 5)\n",
    "ml_scrubbing = ml_scrubbing.to(device)\n",
    "add_random_noise(ml_scrubbing, device, sigma=0.17)\n",
    "\n",
    "feature_backbone, ml_remain = get_trained_linear('checkpoint/05092024-141054-train-user-data-resnet50-cifar10-last5-split0.1/05092024_141054_train_user_data_resnet50_cifar10_last5_split0.1.pth', 'resnet50', 'cifar10', 5)\n",
    "ml_remain = ml_remain.to(device)\n",
    "\n",
    "feature_backbone = feature_backbone.to(device)"
   ]
  },
  {
   "cell_type": "code",
   "execution_count": 20,
   "metadata": {},
   "outputs": [
    {
     "name": "stdout",
     "output_type": "stream",
     "text": [
      "train iter - processing: 1/704\n",
      "train iter - processing: 100/704\n",
      "train iter - processing: 200/704\n",
      "train iter - processing: 300/704\n",
      "train iter - processing: 400/704\n",
      "train iter - processing: 500/704\n",
      "train iter - processing: 600/704\n",
      "train iter - processing: 700/704\n",
      "train iter - processing: 704/704\n",
      "epoch: 1/50, train accuracy: 0.8862444444444444\n"
     ]
    },
    {
     "data": {
      "text/plain": [
       "(None, None)"
      ]
     },
     "execution_count": 20,
     "metadata": {},
     "output_type": "execute_result"
    }
   ],
   "source": [
    "train_accuracy_mixed_linear(ml_scrubbing, remain_loader, feature_backbone, core_model_state_dict, None, 0, device, None, save_param=False)"
   ]
  },
  {
   "cell_type": "code",
   "execution_count": 19,
   "metadata": {},
   "outputs": [
    {
     "name": "stdout",
     "output_type": "stream",
     "text": [
      "train iter - processing: 1/79\n",
      "train iter - processing: 79/79\n",
      "epoch: 1/50, train accuracy: 0.8302\n"
     ]
    },
    {
     "data": {
      "text/plain": [
       "(None, None)"
      ]
     },
     "execution_count": 19,
     "metadata": {},
     "output_type": "execute_result"
    }
   ],
   "source": [
    "train_accuracy_mixed_linear(ml_scrubbing, forget_loader, feature_backbone, core_model_state_dict, None, 0, device, None, save_param=False)"
   ]
  }
 ],
 "metadata": {
  "kernelspec": {
   "display_name": "pytorch-stable",
   "language": "python",
   "name": "python3"
  },
  "language_info": {
   "codemirror_mode": {
    "name": "ipython",
    "version": 3
   },
   "file_extension": ".py",
   "mimetype": "text/x-python",
   "name": "python",
   "nbconvert_exporter": "python",
   "pygments_lexer": "ipython3",
   "version": "3.9.18"
  }
 },
 "nbformat": 4,
 "nbformat_minor": 2
}

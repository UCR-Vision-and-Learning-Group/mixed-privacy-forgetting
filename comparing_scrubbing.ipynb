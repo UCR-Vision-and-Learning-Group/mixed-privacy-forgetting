{
 "cells": [
  {
   "cell_type": "code",
   "execution_count": 1,
   "metadata": {
    "ExecuteTime": {
     "end_time": "2024-05-12T06:07:27.352429Z",
     "start_time": "2024-05-12T06:07:25.763970Z"
    },
    "metadata": {}
   },
   "source": [
    "from dataset import get_user_loader, get_remaining_forget_loader, split_user_train_dataset_to_remaining_forget\n",
    "from model import get_trained_linear, get_core_model_params\n",
    "from train import train_accuracy_mixed_linear\n",
    "from utils import params_to_device\n",
    "\n",
    "import torch\n",
    "\n",
    "device = 'cuda:3' if torch.cuda.is_available() else 'cpu'"
   ],
   "outputs": []
  },
  {
   "cell_type": "code",
   "execution_count": 2,
   "metadata": {
    "ExecuteTime": {
     "end_time": "2024-05-12T06:07:28.374700Z",
     "start_time": "2024-05-12T06:07:28.370180Z"
    }
   },
   "source": [
    "def add_random_noise(model, device, sigma=1e-5):\n",
    "    with torch.no_grad():\n",
    "        state_dict = model.state_dict()\n",
    "        for name in model.tangents.keys():\n",
    "            state_dict['tangent_model.{}'.format(name)] = state_dict['tangent_model.{}'.format(name)] + ((sigma**2) * torch.normal(0, 1, size=state_dict['tangent_model.{}'.format(name)].shape, device=device))\n",
    "        model.load_state_dict(state_dict)"
   ],
   "outputs": []
  },
  {
   "cell_type": "code",
   "execution_count": 2,
   "metadata": {
    "ExecuteTime": {
     "end_time": "2024-05-12T06:07:30.863233Z",
     "start_time": "2024-05-12T06:07:29.169026Z"
    }
   },
   "source": [
    "whole_loader, test_loader = get_user_loader('cifar10', 'resnet50', 64, shuffle=False)\n",
    "remain_dataset, forget_dataset = split_user_train_dataset_to_remaining_forget('cifar10', 'resnet50', 0.1, seed=13)\n",
    "remain_loader, forget_loader = get_remaining_forget_loader(remain_dataset, forget_dataset, 64, shuffle=False)"
   ],
   "outputs": []
  },
  {
   "cell_type": "code",
   "execution_count": 3,
   "metadata": {
    "ExecuteTime": {
     "end_time": "2024-05-12T06:08:24.018919Z",
     "start_time": "2024-05-12T06:08:22.366650Z"
    }
   },
   "source": [
    "core_model_state_dict = get_core_model_params('checkpoint/05042024-213334-train-user-data-resnet50-cifar10-last5/05042024_213334_train_user_data_resnet50_cifar10_last5_core_model.pth', 'cpu')\n",
    "core_model_state_dict = params_to_device(core_model_state_dict, device)\n",
    "\n",
    "core_model_state_dict_remain = get_core_model_params('checkpoint/05092024-141054-train-user-data-resnet50-cifar10-last5-split0.1/05092024_141054_train_user_data_resnet50_cifar10_last5_split0.1_core_model.pth', 'cpu')\n",
    "core_model_state_dict_remain = params_to_device(core_model_state_dict_remain, device)\n",
    "\n",
    "feature_backbone, ml_whole_data = get_trained_linear('checkpoint/05042024-213334-train-user-data-resnet50-cifar10-last5/05042024_213334_train_user_data_resnet50_cifar10_last5.pth', 'resnet50', 'cifar10', 5)\n",
    "ml_whole_data = ml_whole_data.to(device)\n",
    "\n",
    "# feature_backbone, ml_scrubbing = get_trained_linear('checkpoint/05092024-132921-forgetting-resnet50-cifar10-last5-split0.1/05092024_132921_forgetting_resnet50_cifar10_last5_split0.1.pth', 'resnet50', 'cifar10', 5)\n",
    "# ml_scrubbing = ml_scrubbing.to(device)\n",
    "# add_random_noise(ml_scrubbing, device, sigma=0.17)\n",
    "\n",
    "feature_backbone, ml_scrubbing = get_trained_linear('hess_diag_model_100_iter_fixed.pth', 'resnet50', 'cifar10', 5)\n",
    "ml_scrubbing = ml_scrubbing.to(device)\n",
    "\n",
    "feature_backbone, ml_remain = get_trained_linear('checkpoint/05092024-141054-train-user-data-resnet50-cifar10-last5-split0.1/05092024_141054_train_user_data_resnet50_cifar10_last5_split0.1.pth', 'resnet50', 'cifar10', 5)\n",
    "ml_remain = ml_remain.to(device)\n",
    "\n",
    "feature_backbone = feature_backbone.to(device)"
   ],
   "outputs": []
  },
  {
   "cell_type": "code",
   "execution_count": 5,
   "metadata": {},
   "source": [
    "train_accuracy_mixed_linear(ml_scrubbing, remain_loader, feature_backbone, core_model_state_dict, None, 0, device, None, save_param=False)"
   ],
   "outputs": []
  },
  {
   "cell_type": "code",
   "execution_count": 4,
   "metadata": {
    "ExecuteTime": {
     "end_time": "2024-05-12T06:12:58.153205Z",
     "start_time": "2024-05-12T06:12:45.516944Z"
    }
   },
   "source": [
    "train_accuracy_mixed_linear(ml_scrubbing, forget_loader, feature_backbone, core_model_state_dict, None, 0, device, None, save_param=False)"
   ],
   "outputs": []
  },
  {
   "cell_type": "code",
   "execution_count": 7,
   "metadata": {
    "ExecuteTime": {
     "end_time": "2024-05-12T06:09:34.070939Z",
     "start_time": "2024-05-12T06:09:33.786157Z"
    },
    "collapsed": false
   },
   "source": [
    "torch.load('hess_diag_model_1_iter_fixed.pth')"
   ],
   "outputs": []
  },
  {
   "cell_type": "code",
   "execution_count": 8,
   "metadata": {
    "ExecuteTime": {
     "end_time": "2024-05-12T06:10:50.855897Z",
     "start_time": "2024-05-12T06:10:50.558634Z"
    },
    "collapsed": false
   },
   "source": [
    "torch.load('checkpoint/05042024-213334-train-user-data-resnet50-cifar10-last5/05042024_213334_train_user_data_resnet50_cifar10_last5.pth')['model_state_dict']"
   ],
   "outputs": []
  }
 ],
 "metadata": {
  "kernelspec": {
   "display_name": "pytorch-stable",
   "language": "python",
   "name": "python3"
  },
  "language_info": {
   "codemirror_mode": {
    "name": "ipython",
    "version": 3
   },
   "file_extension": ".py",
   "mimetype": "text/x-python",
   "name": "python",
   "nbconvert_exporter": "python",
   "pygments_lexer": "ipython3",
   "version": "3.9.18"
  }
 },
 "nbformat": 4,
 "nbformat_minor": 2
}
